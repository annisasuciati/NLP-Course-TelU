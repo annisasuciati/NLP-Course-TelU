{
 "cells": [
  {
   "cell_type": "code",
   "execution_count": 1,
   "metadata": {},
   "outputs": [],
   "source": [
    "from itertools import chain\n",
    "import nltk\n",
    "from sklearn.metrics import classification_report, confusion_matrix\n",
    "from sklearn.preprocessing import LabelBinarizer\n",
    "import sklearn\n",
    "import pycrfsuite\n",
    "import sklearn_crfsuite\n",
    "from sklearn_crfsuite import scorers\n",
    "from sklearn_crfsuite import metrics"
   ]
  },
  {
   "cell_type": "code",
   "execution_count": 2,
   "metadata": {},
   "outputs": [],
   "source": [
    "train_lines = []\n",
    "test_lines = []\n",
    "with open('kalimat_POSTag.txt', 'r') as f:\n",
    "    train_lines = f.readlines()\n",
    "with open('kalimat_POS_NE_test.txt', 'r') as f:\n",
    "    test_lines = f.readlines()"
   ]
  },
  {
   "cell_type": "code",
   "execution_count": 3,
   "metadata": {},
   "outputs": [],
   "source": [
    "train_sents = []\n",
    "test_sents = []\n",
    "sent = []\n",
    "counter = 0\n",
    "classes = [\"B-PER\",\"I-PER\",\"B-ORG\",\"I-ORG\",\"B-LOC\",\"I-LOC\",\"O\"]"
   ]
  },
  {
   "cell_type": "code",
   "execution_count": 4,
   "metadata": {},
   "outputs": [
    {
     "name": "stdout",
     "output_type": "stream",
     "text": [
      "train sent = \n",
      "[('Pengamat', 'NN', 'O'), ('politik', 'NN', 'O'), ('dari', 'IN', 'O'), ('Universitas', 'NN', 'O'), ('Gadjah', 'NNP', 'O'), ('Mada', 'NNP', 'O'), (',', ',', 'O'), ('Arie', 'NNP', 'O'), ('Sudjito', 'NNP', 'O'), (',', ',', 'O'), ('menilai', 'VBT', 'O'), (',', ',', 'O'), ('keinginan', 'NN', 'O'), ('Ketua', 'NN', 'O'), ('Umum', 'JJ', 'O'), ('Partai', 'NN', 'O'), ('Golkar', 'NNP', 'O'), ('Aburizal', 'NNP', 'O'), ('Bakrie', 'NNP', 'O'), ('untuk', 'IN', 'O'), ('maju', 'VBI', 'O'), ('kembali', 'RB', 'O'), ('sebagai', 'IN', 'O'), ('ketua', 'NN', 'O'), ('umum', 'JJ', 'O'), ('merupakan', 'VBT', 'O'), ('pemaksaan', 'NN', 'O'), ('kehendak', 'NN', 'O'), ('.', '.', 'O')]\n",
      "train sent = \n",
      "[('Menurut', 'VBT', 'O'), ('dia', 'PRP', 'O'), (',', ',', 'O'), ('ada', 'VBI', 'O'), ('kesan', 'NN', 'O'), ('bahwa', 'SC', 'O'), ('Aburizal', 'NNP', 'O'), ('menggunakan', 'VBT', 'O'), ('segala', 'RB', 'O'), ('cara', 'NN', 'O'), ('untuk', 'IN', 'O'), ('memuluskan', 'VBT', 'O'), ('jalannya', 'NN', 'O'), ('kembali', 'RB', 'O'), ('menduduki', 'VBT', 'O'), ('Golkar', 'NNP', 'O'), ('1', 'CDP', 'O'), ('.', '.', 'O')]\n",
      "train sent = \n",
      "[('Hal', 'NN', 'O'), ('ini', 'DT', 'O'), (',', ',', 'O'), ('kata', 'VBT', 'O'), ('Arie', 'NNP', 'O'), (',', ',', 'O'), ('berpotensi', 'VBI', 'O'), ('menimbukan', 'VBT', 'O'), ('perpecahan', 'NN', 'O'), ('di', 'IN', 'O'), ('kalangan', 'NN', 'O'), ('kader', 'NN', 'O'), ('Golkar', 'NNP', 'O'), ('di', 'IN', 'O'), ('daerah', 'NN', 'O'), ('.', '.', 'O')]\n",
      "train sent = \n",
      "[('\"', '\"', 'O'), ('Tentu', 'RB', 'O'), ('ini', 'DT', 'O'), ('akan', 'MD', 'O'), ('merugikan', 'VBT', 'O'), ('Golkar', 'NNP', 'O'), ('karena', 'CC', 'O'), ('Golkar', 'NNP', 'O'), ('akan', 'MD', 'O'), ('pecah', 'VBI', 'O'), ('dan', 'CC', 'O'), ('konflik', 'NN', 'O'), ('di', 'IN', 'O'), ('daerah', 'NN', 'O'), ('dipastikan', 'VBT', 'O'), ('akan', 'MD', 'O'), ('terjadi,', 'JJ', 'O'), ('\"', '\"', 'O'), ('ujar', 'VBT', 'O'), ('Arie', 'NNP', 'O'), (',', ',', 'O'), ('saat', 'SC', 'O'), ('dihubungi', 'VBT', 'O'), ('Kompas.com', 'NN', 'O'), (',', ',', 'O'), ('Selasa', 'NN', 'O'), ('(', 'OP', 'O'), ('2/12/2014)', '12', 'O'), ('.', '.', 'O')]\n",
      "train sent = \n",
      "[('Arie', 'NNP', 'O'), ('mengatakan', 'VBI', 'O'), (',', ',', 'O'), ('sikap', 'NN', 'O'), ('Aburizal', 'NNP', 'O'), ('tersebut', 'DT', 'O'), ('ditentang', 'VBT', 'O'), ('oleh', 'IN', 'O'), ('sebagian', 'CDI', 'O'), ('kalangan', 'NN', 'O'), ('di', 'IN', 'O'), ('internal', 'NN', 'O'), ('Golkar', 'NNP', 'O'), ('yang', 'SC', 'O'), ('melakukan', 'VBT', 'O'), ('perlawanan', 'NN', 'O'), ('dengan', 'IN', 'O'), ('membentuk', 'VBT', 'O'), ('Presidium', 'NN', 'O'), ('Penyelamat', 'NN', 'O'), ('Partai', 'NN', 'O'), ('Golkar', 'NNP', 'O'), ('.', '.', 'O')]\n",
      "train sent = \n",
      "[('Selain', 'NN', 'O'), ('itu', 'DT', 'O'), (',', ',', 'O'), ('dua', 'CDP', 'O'), ('calon', 'NN', 'O'), ('ketua', 'NN', 'O'), ('umum', 'JJ', 'O'), ('menyatakan', 'VBT', 'O'), ('mundur', 'VBI', 'O'), ('dan', 'CC', 'O'), ('tak', 'NEG', 'O'), ('akan', 'MD', 'O'), ('mencalonkan', 'VBT', 'O'), ('diri', 'NN', 'O'), ('.', '.', 'O')]\n",
      "train sent = \n",
      "[('Mereka', 'PRP', 'O'), ('adalah', 'VBT', 'O'), ('MS', 'NN', 'O'), ('Hidayat', 'NN', 'O'), ('dan', 'CC', 'O'), ('Airlangga', 'FW', 'O'), ('Hartarto', 'NN', 'O'), ('.', '.', 'O')]\n",
      "train sent = \n",
      "[('Hidayat', 'NNP', 'O'), ('dan', 'CC', 'O'), ('Airlangga', 'FW', 'O'), ('mundur', 'VBI', 'O'), ('karena', 'CC', 'O'), ('menganggap', 'VBT', 'O'), ('ada', 'VBI', 'O'), ('proses', 'NN', 'O'), ('yang', 'SC', 'O'), ('tidak', 'NEG', 'O'), ('demokratis', 'NN', 'O'), ('dan', 'CC', 'O'), ('tidak', 'NEG', 'O'), ('fair', 'JJ', 'O'), ('dalam', 'IN', 'O'), ('Munas', 'NNP', 'O'), ('IX', 'NNP', 'O'), ('yang', 'SC', 'O'), ('berlangsung', 'VBI', 'O'), ('di', 'IN', 'O'), ('Bali', 'NNP', 'O'), ('.', '.', 'O')]\n",
      "train sent = \n",
      "[('\"', '\"', 'O'), ('Upaya', 'NN', 'O'), ('Airlangga', 'FW', 'O'), ('serius', 'JJ', 'O'), ('bertarung', 'VBI', 'O'), (',', ',', 'O'), ('tapi', 'CC', 'O'), ('melihat', 'VBT', 'O'), ('gelagat', 'NN', 'O'), ('tidak', 'NEG', 'O'), ('sehat', 'SC', 'O'), (',', ',', 'O'), ('maka', 'SC', 'O'), ('lebih', 'RB', 'O'), ('baik', 'JJ', 'O'), ('mundur', 'VBI', 'O'), ('.', '.', 'O'), ('Itu', 'DT', 'O'), ('pun', 'RP', 'O'), ('jalan', 'NN', 'O'), ('moderat,', 'NN', 'O'), ('\"', '\"', 'O'), ('kata', 'VBT', 'O'), ('Arie', 'NNP', 'O'), ('.', '.', 'O')]\n",
      "train sent = \n",
      "[('Dengan', 'IN', 'O'), ('mundurnya', 'VBT', 'O'), ('Hidayat', 'NNP', 'O'), ('dan', 'CC', 'O'), ('Airlangga', 'FW', 'O'), (',', ',', 'O'), ('Aburizal', 'NNP', 'O'), ('berpotensi', 'VBT', 'O'), ('menjadi', 'VBT', 'O'), ('calon', 'NN', 'O'), ('tunggal', 'JJ', 'O'), ('ketua', 'NN', 'O'), ('umum', 'JJ', 'O'), ('yang', 'SC', 'O'), ('akan', 'MD', 'O'), ('dipilih', 'VBT', 'O'), ('dalam', 'IN', 'O'), ('Munas', 'NNP', 'O'), ('IX', 'NNP', 'O'), ('.', '.', 'O')]\n",
      "train sent = \n",
      "[('Menurut', 'VBT', 'O'), ('Arie', 'NNP', 'O'), (',', ',', 'O'), ('jika', 'SC', 'O'), ('Aburizal', 'NNP', 'O'), ('terus', 'RB', 'O'), ('memaksakan', 'VBT', 'O'), ('kehendaknya', 'NN', 'O'), (',', ',', 'O'), ('bukan', 'NEG', 'O'), ('tidak', 'NEG', 'O'), ('mungkin', 'RB', 'O'), ('Golkar', 'NNP', 'O'), ('akan', 'MD', 'O'), ('menyusul', 'VBT', 'O'), ('Partai', 'NN', 'O'), ('Persatuan', 'NN', 'O'), ('Pembangunan', 'NN', 'O'), ('yang', 'SC', 'O'), ('terpecah', 'VBI', 'O'), ('karena', 'CC', 'O'), ('konflik', 'NN', 'O'), ('internal', 'NN', 'O'), ('.', '.', 'O')]\n",
      "train sent = \n",
      "[('Arie', 'NNP', 'O'), ('mengatakan', 'VBI', 'O'), (',', ',', 'O'), ('para', 'DT', 'O'), ('petinggi', 'NN', 'O'), ('partai', 'NN', 'O'), ('segera', 'RB', 'O'), ('melakukan', 'VBT', 'O'), ('langkah', 'NN', 'O'), ('-', '-', 'O'), ('langkah', 'NN', 'O'), ('untuk', 'IN', 'O'), ('menyelamatkan', 'VBT', 'O'), ('partai', 'NN', 'O'), ('berlambang', 'VBT', 'O'), ('pohon', 'NN', 'O'), ('beringin', 'NN', 'O'), ('tersebut', 'DT', 'O'), ('.', '.', 'O')]\n",
      "train sent = \n",
      "[('\"', '\"', 'O'), ('Ini', 'DT', 'O'), ('indikasi', 'NN', 'O'), ('atau', 'CC', 'O'), ('tanda', 'NN', 'O'), ('-', '-', 'O'), ('tanda', 'NN', 'O'), ('kebangkrutan', 'NN', 'O'), ('Golkar,', 'NNP', 'O'), ('\"', '\"', 'O'), ('kata', 'VBT', 'O'), ('Arie', 'NNP', 'O'), ('.', '.', 'O')]\n",
      "train sent = \n",
      "[('Wakil', 'NN', 'O'), ('Ketua', 'NN', 'O'), ('DPR', 'NN', 'O'), ('Fadli', 'NNP', 'O'), ('Zon', 'NNP', 'O'), ('mengkritik', 'VBT', 'O'), ('pemerintahan', 'NN', 'O'), ('Joko', 'NNP', 'O'), ('Widodo', 'NNP', 'O'), ('yang', 'SC', 'O'), ('dinilainya', 'NN', 'O'), ('lambat', 'JJ', 'O'), ('dalam', 'IN', 'O'), ('melakukan', 'VBT', 'O'), ('eksekusi', 'NN', 'O'), ('terhadap', 'IN', 'O'), ('para', 'DT', 'O'), ('terpidana', 'VBI', 'O'), ('mati', 'VBI', 'O'), ('kasus', 'NN', 'O'), ('narkoba', 'NN', 'O'), ('.', '.', 'O')]\n",
      "train sent = \n",
      "[('Menurut', 'VBT', 'O'), ('Fadli', 'NNP', 'O'), (',', ',', 'O'), ('semakin', 'RB', 'O'), ('cepat', 'JJ', 'O'), ('eksekusi', 'NN', 'O'), ('dilakukan', 'VBT', 'O'), (',', ',', 'O'), ('hal', 'NN', 'O'), ('itu', 'DT', 'O'), ('akan', 'MD', 'O'), ('semakin', 'RB', 'O'), ('baik', 'JJ', 'O'), ('.', '.', 'O')]\n",
      "train sent = \n",
      "[('\"', '\"', 'O'), ('Pemerintah', 'NN', 'O'), ('lambat', 'JJ', 'O'), (',', ',', 'O'), ('eksekusi', 'NN', 'O'), ('lambat', 'JJ', 'O'), (',', ',', 'O'), ('eksekusi', 'NN', 'O'), ('kapan', 'WP', 'O'), ('tidak', 'NEG', 'O'), ('jelas', 'JJ', 'O'), ('karena', 'CC', 'O'), ('lambatnya', 'NN', 'O'), ('pemerintah', 'NN', 'O'), ('mengambil', 'VBT', 'O'), ('keputusan,', 'NN', 'O'), ('\"', '\"', 'O'), ('kata', 'VBT', 'O'), ('Fadil', 'NNP', 'O'), ('Zon', 'NNP', 'O'), ('di', 'IN', 'O'), ('Gedung', 'NN', 'O'), ('DPR', 'NN', 'O'), (',', ',', 'O'), ('Senayan', 'NN', 'O'), (',', ',', 'O'), ('Jakarta', 'NNP', 'O'), (',', ',', 'O'), ('Rabu', 'NN', 'O'), ('(', 'OP', 'O'), ('11/3/2015)', '3', 'O'), ('.', '.', 'O')]\n",
      "train sent = \n",
      "[('Menurut', 'VBT', 'O'), ('dia', 'PRP', 'O'), (',', ',', 'O'), ('karena', 'CC', 'O'), ('lambatnya', 'NN', 'O'), ('eksekusi', 'NN', 'O'), ('mati', 'VBI', 'O'), ('ini', 'DT', 'O'), (',', ',', 'O'), ('akhirnya', 'RB', 'O'), ('terjadi', 'VBI', 'O'), ('perlawanan', 'NN', 'O'), ('dari', 'IN', 'O'), ('berbagai', 'CDI', 'O'), ('pihak', 'NN', 'O'), (',', ',', 'O'), ('termasuk', 'VBT', 'O'), ('para', 'DT', 'O'), ('terpidana', 'VBI', 'O'), ('.', '.', 'O')]\n",
      "train sent = \n"
     ]
    },
    {
     "name": "stdout",
     "output_type": "stream",
     "text": [
      "[('Terpidana', 'NNP', 'O'), ('mati', 'VBI', 'O'), ('kasus', 'NN', 'O'), ('narkoba', 'NN', 'O'), ('yang', 'SC', 'O'), ('merupakan', 'VBT', 'O'), ('warga', 'NN', 'O'), ('negara', 'NN', 'O'), ('Perancis', 'NNP', 'O'), (',', ',', 'O'), ('Serge', 'NNP', 'O'), ('Atlaoui', 'NNP', 'O'), (',', ',', 'O'), ('mengajukan', 'VBT', 'O'), ('upaya', 'NN', 'O'), ('hukum', 'NN', 'O'), ('lanjutan', 'NN', 'O'), ('berupa', 'VBT', 'O'), ('peninjauan', 'NN', 'O'), ('kembali', 'RB', 'O'), ('ke', 'IN', 'O'), ('Pengadilan', 'NN', 'O'), ('Negeri', 'NN', 'O'), ('Tangerang', 'NN', 'O'), ('.', '.', 'O')]\n",
      "train sent = \n",
      "[('Sebelumnya', 'NNG', 'O'), (',', ',', 'O'), ('terpidana', 'VBI', 'O'), ('mati', 'VBI', 'O'), ('asal', 'NN', 'O'), ('Filipina', 'NNP', 'O'), (',', ',', 'O'), ('Mary', 'NNP', 'O'), ('Jane', 'NNP', 'O'), ('Fiesta', 'NNP', 'O'), ('Veloso', 'NNP', 'O'), (',', ',', 'O'), ('juga', 'RB', 'O'), ('telah', 'MD', 'O'), ('mengajukan', 'VBT', 'O'), ('langkah', 'NN', 'O'), ('serupa', 'JJ', 'O'), ('.', '.', 'O')]\n",
      "train sent = \n",
      "[('\"', '\"', 'O'), ('Ini', 'DT', 'O'), ('membuat', 'VBT', 'O'), ('segala', 'RB', 'O'), ('macam', 'NN', 'O'), ('ekses', 'NN', 'O'), ('terjadi', 'VBI', 'O'), ('.', '.', 'O'), ('Pemerintah', 'NN', 'O'), ('harusnya', 'NN', 'O'), ('bisa', 'MD', 'O'), ('mengambil', 'VBT', 'O'), ('sikap', 'NN', 'O'), ('dengan', 'IN', 'O'), ('cepat,', 'JJ', 'O'), ('\"', '\"', 'O'), ('ucap', 'NN', 'O'), ('politisi', 'NN', 'O'), ('Partai', 'NN', 'O'), ('Gerindra', 'NN', 'O'), ('itu', 'DT', 'O'), ('.', '.', 'O')]\n",
      "train sent = \n",
      "[('Selain', 'NN', 'O'), ('perlawanan', 'NN', 'O'), ('dari', 'IN', 'O'), ('terpidana', 'VBI', 'O'), (',', ',', 'O'), ('menurut', 'VBT', 'O'), ('Fadli', 'NNP', 'O'), (',', ',', 'O'), ('Indonesia', 'NNP', 'O'), ('juga', 'RB', 'O'), ('akan', 'MD', 'O'), ('terus', 'RB', 'O'), ('mendapatkan', 'VBT', 'O'), ('tekanan', 'NN', 'O'), ('dari', 'IN', 'O'), ('dunia', 'NN', 'O'), ('internasional', 'JJ', 'O'), ('jika', 'SC', 'O'), ('eksekusi', 'NN', 'O'), ('mati', 'VBI', 'O'), ('terus', 'RB', 'O'), ('ditunda', 'VBT', 'O'), ('.', '.', 'O')]\n",
      "train sent = \n",
      "[('Situasi', 'NN', 'O'), ('ini', 'DT', 'O'), (',', ',', 'O'), ('menurut', 'VBT', 'O'), ('dia', 'PRP', 'O'), (',', ',', 'O'), ('dapat', 'MD', 'O'), ('mengganggu', 'VBT', 'O'), ('kerja', 'sama', 'NN'), ('yang', 'SC', 'O'), ('selama', 'IN', 'O'), ('ini', 'DT', 'O'), ('dijalin', 'VBT', 'O'), ('dengan', 'IN', 'O'), ('negara', 'NN', 'O'), ('lainnya', 'NNG', 'O'), ('.', '.', 'O')]\n",
      "train sent = \n",
      "[('\"', '\"', 'O'), ('Kita', 'PRP', 'O'), ('melihat', 'VBT', 'O'), ('negara', 'NN', 'O'), ('yang', 'SC', 'O'), ('selama', 'IN', 'O'), ('ini', 'DT', 'O'), ('bersahabat', 'VBI', 'O'), (',', ',', 'O'), ('sekarang', 'NN', 'O'), ('negara', 'NN', 'O'), ('internasional', 'JJ', 'O'), ('semakin', 'RB', 'O'), ('memojokkan', 'VBT', 'O'), ('kita,', 'PRP', 'O'), ('\"', '\"', 'O'), ('ucap', 'NN', 'O'), ('Fadli', 'NNP', 'O'), ('.', '.', 'O')]\n",
      "train sent = \n",
      "[('Kantor', 'NN', 'O'), ('Wilayah', 'NN', 'O'), ('Kementerian', 'NN', 'O'), ('Hukum', 'NN', 'O'), ('dan', 'CC', 'O'), ('Hak', 'NN', 'O'), ('Asasi', 'NN', 'O'), ('Manusia', 'NN', 'O'), ('sebelumnya', 'SC', 'O'), ('menyatakan', 'VBT', 'O'), ('persiapan', 'NN', 'O'), ('di', 'IN', 'O'), ('Pulau', 'NN', 'O'), ('Nusakambangan', 'NNP', 'O'), (',', ',', 'O'), ('Cilacap', 'NNP', 'O'), (',', ',', 'O'), ('sebagai', 'IN', 'O'), ('tempat', 'NN', 'O'), ('eksekusi', 'NN', 'O'), ('para', 'DT', 'O'), ('terpidana', 'VBI', 'O'), ('mati', 'VBI', 'O'), ('telah', 'MD', 'O'), ('mencapai', 'VBT', 'O'), ('100', 'CDP', 'O'), ('persen', 'NN', 'O'), ('.', '.', 'O')]\n",
      "train sent = \n",
      "[('Namun', 'CC', 'O'), (',', ',', 'O'), ('hingga', 'CC', 'O'), ('saat', 'NN', 'O'), ('ini', 'DT', 'O'), ('belum', 'NEG', 'O'), ('ada', 'VBI', 'O'), ('keputusan', 'NN', 'O'), ('mengenai', 'VBT', 'O'), ('waktu', 'NN', 'O'), ('eksekusi', 'NN', 'O'), ('mati', 'VBI', 'O'), ('.', '.', 'O')]\n",
      "train sent = \n",
      "[('Kejaksaan', 'NN', 'O'), ('Agung', 'JJ', 'O'), ('beberapa', 'CDI', 'O'), ('waktu', 'NN', 'O'), ('lalu', 'JJ', 'O'), ('merilis', 'VBT', 'O'), ('10', 'CDP', 'O'), ('nama', 'NN', 'O'), ('terpidana', 'VBI', 'O'), ('mati', 'VBI', 'O'), ('kasus', 'NN', 'O'), ('narkoba', 'NN', 'O'), ('yang', 'SC', 'O'), ('akan', 'MD', 'O'), ('dieksekusi', 'VBT', 'O'), (',', ',', 'O'), ('yakni', 'VBT', 'O'), ('Andrew', 'NNP', 'O'), ('Chan', 'NNP', 'O'), ('(', 'OP', 'O'), ('warga', 'NN', 'O'), ('negara', 'NN', 'O'), ('Australia)', 'NNP', 'O'), (',', ',', 'O'), ('Myuran', 'NNP', 'O'), ('Sukumaran', 'NNP', 'O'), ('(', 'OP', 'O'), ('Australia)', 'NNP', 'O'), (',', ',', 'O'), ('Raheem', 'NNP', 'O'), ('Agbaje', 'NNP', 'O'), ('Salami', 'NNP', 'O'), ('(', 'OP', 'O'), ('Nigeria)', 'NNP', 'O'), (',', ',', 'O'), ('Zainal', 'NNP', 'O'), ('Abidin', 'NNP', 'O'), ('(', 'OP', 'O'), ('Indonesia)', 'NNP', 'O'), (',', ',', 'O'), ('Serge', 'NNP', 'O'), ('Areski', 'NNP', 'O'), ('Atlaoui', 'NNP', 'O'), ('(', 'OP', 'O'), ('Perancis)', 'NN', 'O'), (',', ',', 'O'), ('Rodrigo', 'NNP', 'O'), ('Gularte', 'NNP', 'O'), ('(', 'OP', 'O'), ('Brasil)', 'NNP', 'O'), (',', ',', 'O'), ('Silvester', 'NNP', 'O'), ('Obiekwe', 'NNP', 'O'), ('Nwaolise', 'NN', 'O'), ('alias', 'NN', 'O'), ('Mustofa', 'NNP', 'O'), ('(', 'OP', 'O'), ('Nigeria)', 'NNP', 'O'), (',', ',', 'O'), ('Martin', 'NNP', 'O'), ('Anderson', 'NNP', 'O'), ('alias', 'NN', 'O'), ('Belo', 'NNP', 'O'), ('(', 'OP', 'O'), ('Ghana)', 'NNP', 'O'), (',', ',', 'O'), ('Okwudili', 'NNP', 'O'), ('Oyatanze', 'NNP', 'O'), ('(', 'OP', 'O'), ('Nigeria)', 'NNP', 'O'), (',', ',', 'O'), ('dan', 'CC', 'O'), ('Mary', 'NNP', 'O'), ('Jane', 'NNP', 'O'), ('Fiesta', 'NNP', 'O'), ('Veloso', 'NNP', 'O'), ('(', 'OP', 'O'), ('Filipina)', 'NNP', 'O'), ('.', '.', 'O')]\n",
      "train sent = \n",
      "[('Partai', 'NN', 'O'), ('Golkar', 'NNP', 'O'), ('menerima', 'VBT', 'O'), ('kekalahan', 'NN', 'O'), ('pasangan', 'NN', 'O'), ('Irianto', 'NNP', 'O'), ('MS', 'NNP', 'O'), ('Syaifuddin', 'NNP', 'O'), ('-', '-', 'O'), ('Tatang', 'NNP', 'O'), ('Farhanul', 'NNP', 'O'), ('Hakim', 'NN', 'O'), ('(', 'OP', 'O'), ('Irianto', 'NNP', 'O'), ('-', '-', 'O'), ('Tatang', 'NNP', 'O'), (')', 'CP', 'O'), ('dalam', 'IN', 'O'), ('Pemilu', 'NN', 'O'), ('Gubernur', 'NN', 'O'), ('dan', 'CC', 'O'), ('Wakil', 'NN', 'O'), ('Gubernur', 'NN', 'O'), ('Jawa', 'NN', 'O'), ('Barat', 'NN', 'O'), ('.', '.', 'O')]\n",
      "train sent = \n",
      "[('Berdasarkan', 'VBT', 'O'), ('hasil', 'NN', 'O'), ('hitung', 'JJ', 'O'), ('cepat', 'JJ', 'O'), (',', ',', 'O'), ('pasangan', 'NN', 'O'), ('tersebut', 'DT', 'O'), ('hanya', 'RB', 'O'), ('berada', 'VBI', 'O'), ('di', 'IN', 'O'), ('urutan', 'NN', 'O'), ('keempat', 'CDO', 'O'), ('dari', 'IN', 'O'), ('lima', 'CDP', 'O'), ('pasangan', 'NN', 'O'), ('.', '.', 'O')]\n",
      "train sent = \n",
      "[('\"', '\"', 'O'), ('Golkar', 'NNP', 'O'), ('menerima', 'VBT', 'O'), ('kekalahan', 'NN', 'O'), ('ini', 'DT', 'O'), ('dengan', 'IN', 'O'), ('legowo', 'NN', 'O'), ('.', '.', 'O'), ('Tentunya', 'NNP', 'O'), ('selalu', 'RB', 'O'), ('ada', 'VBI', 'O'), ('yang', 'SC', 'O'), ('kalah', 'NN', 'O'), ('dan', 'CC', 'O'), ('menang', 'VBT', 'O'), ('dalam', 'IN', 'O'), ('pesta', 'NN', 'O'), ('demokrasi,', 'NN', 'O'), ('\"', '\"', 'O'), ('kata', 'VBT', 'O'), ('Wakil', 'NN', 'O'), ('Sekretaris', 'NN', 'O'), ('Jenderal', 'NN', 'O'), ('DPP', 'NN', 'O'), ('Partai', 'NN', 'O'), ('Golkar', 'NNP', 'O'), ('Nurul', 'NNP', 'O'), ('Arifin', 'NNP', 'O'), ('di', 'IN', 'O'), ('Jakarta', 'NNP', 'O'), (',', ',', 'O'), ('Senin', 'NN', 'O'), ('(', 'OP', 'O'), ('25/2/2013)', '2', 'O'), ('.', '.', 'O')]\n",
      "train sent = \n",
      "[('Seperti', 'IN', 'O'), ('diberitakan', 'VBT', 'O'), (',', ',', 'O'), ('hitung', 'JJ', 'O'), ('cepat', 'JJ', 'O'), ('Penelitian', 'NN', 'O'), ('dan', 'CC', 'O'), ('Pengembangan', 'NN', 'O'), ('(', 'OP', 'O'), ('Litbang', 'NNP', 'O'), (')', 'CP', 'O'), ('Kompas', 'NNP', 'O'), ('menyebutkan', 'VBT', 'O'), ('pasangan', 'NN', 'O'), ('Irianto', 'NNP', 'O'), ('-', '-', 'O'), ('Tatang', 'NNP', 'O'), ('hanya', 'RB', 'O'), ('mendapat', 'VBT', 'O'), ('12,35', 'CDP', 'O'), ('persen', 'NN', 'O'), ('suara', 'NN', 'O'), ('.', '.', 'O')]\n",
      "train sent = \n"
     ]
    },
    {
     "name": "stdout",
     "output_type": "stream",
     "text": [
      "[('Di', 'IN', 'O'), ('urutan', 'NN', 'O'), ('pertama', 'CDO', 'O'), (',', ',', 'O'), ('yakni', 'VBT', 'O'), ('pasangan', 'NN', 'O'), ('Ahmad', 'NNP', 'O'), ('Heryawan', 'NNP', 'O'), ('-', '-', 'O'), ('Deddy', 'NNP', 'O'), ('Mizwar', 'NNP', 'O'), ('(', 'OP', 'O'), ('Heryawan', 'NNP', 'O'), ('-', '-', 'O'), ('Deddy', 'NNP', 'O'), (')', 'CP', 'O'), ('meraih', 'VBT', 'O'), ('suara', 'NN', 'O'), ('31,45', 'CDP', 'O'), ('persen', 'NN', 'O'), (',', ',', 'O'), ('disusul', 'VBT', 'O'), ('pasangan', 'NN', 'O'), ('Rieke', 'NNP', 'O'), ('Diah', 'NNP', 'O'), ('Pitaloka', 'NNP', 'O'), ('-', '-', 'O'), ('Teten', 'NNP', 'O'), ('Masduki', 'NNP', 'O'), ('(', 'OP', 'O'), ('Rieke', 'NNP', 'O'), ('-', '-', 'O'), ('Teten', 'NNP', 'O'), (')', 'CP', 'O'), ('sebanyak', 'CDI', 'O'), ('29,03', 'CDP', 'O'), ('persen', 'NN', 'O'), (',', ',', 'O'), ('Dede', 'NNP', 'O'), ('Yusuf', 'NNP', 'O'), ('Macan', 'NNP', 'O'), ('Efendi', 'NN', 'O'), ('-', '-', 'O'), ('Lex', 'NNP', 'O'), ('Laksamana', 'NNP', 'O'), ('28,85', 'CDP', 'O'), ('persen', 'NN', 'O'), ('suara', 'NN', 'O'), ('.', '.', 'O')]\n",
      "train sent = \n",
      "[('Paling', 'RB', 'O'), ('bawah', 'NN', 'O'), (',', ',', 'O'), ('pasangan', 'NN', 'O'), ('Dikdik', 'NN', 'O'), ('M', 'NNP', 'O'), ('Arief', 'NNP', 'O'), ('Mansur', 'NNP', 'O'), ('-', '-', 'O'), ('Cecep', 'NNP', 'O'), ('Nana', 'NNP', 'O'), ('Suryana', 'NNP', 'O'), ('Toyib', 'NNP', 'O'), ('(', 'OP', 'O'), ('Dikdik', 'NNP', 'O'), ('-', '-', 'O'), ('Toyib', 'NNP', 'O'), (')', 'CP', 'O'), ('1,72', 'CDP', 'O'), ('persen', 'NN', 'O'), ('.', '.', 'O')]\n",
      "train sent = \n",
      "[('Nurul', 'NNP', 'O'), ('mengatakan', 'VBI', 'O'), (',', ',', 'O'), ('pihaknya', 'NNG', 'O'), ('sudah', 'MD', 'O'), ('berupaya', 'VBI', 'O'), ('mengusung', 'VBT', 'O'), ('calon', 'NN', 'O'), ('terbaik', 'JJ', 'O'), ('.', '.', 'O')]\n",
      "train sent = \n",
      "[('Selain', 'NN', 'O'), ('itu', 'DT', 'O'), (',', ',', 'O'), ('kata', 'VBT', 'O'), ('dia', 'PRP', 'O'), (',', ',', 'O'), ('mesin', 'VBT', 'O'), ('partai', 'NN', 'O'), ('juga', 'RB', 'O'), ('sudah', 'MD', 'O'), ('bekerja', 'VBI', 'O'), ('optimal', 'JJ', 'O'), ('.', '.', 'O')]\n",
      "train sent = \n",
      "[('Hanya', 'RB', 'O'), ('saja', 'RB', 'O'), (',', ',', 'O'), ('pilihan', 'NN', 'O'), ('tetap', 'JJ', 'O'), ('ada', 'VBI', 'O'), ('di', 'IN', 'O'), ('tangan', 'NN', 'O'), ('rakyat', 'NN', 'O'), ('Jabar', 'NN', 'O'), ('.', '.', 'O')]\n",
      "train sent = \n",
      "[('\"', '\"', 'O'), ('Golkar', 'NNP', 'O'), ('mengucapkan', 'VBT', 'O'), ('selamat', 'NN', 'O'), ('kepada', 'IN', 'O'), ('pasangan', 'NN', 'O'), ('terpilih', 'VBI', 'O'), ('.', '.', 'O'), ('Semoga', 'NN', 'O'), ('dapat', 'MD', 'O'), ('menjalankan', 'VBT', 'O'), ('amanah', 'NN', 'O'), ('rakyat', 'NN', 'O'), ('tanpa', 'RB', 'O'), ('menyingkirkan', 'VBT', 'O'), ('kelompok', 'NN', 'O'), ('minoritas', 'NN', 'O'), ('yang', 'SC', 'O'), ('ada', 'VBI', 'O'), ('di', 'IN', 'O'), ('Jabar,', 'NNP', 'O'), ('\"', '\"', 'O'), ('kata', 'VBT', 'O'), ('Nurul', 'NNP', 'O'), ('.', '.', 'O')]\n",
      "train sent = \n",
      "[('Nurul', 'NNP', 'O'), ('meyakinkan', 'JJ', 'O'), (',', ',', 'O'), ('akan', 'MD', 'O'), ('mengobati', 'VBT', 'O'), ('kekalahan', 'NN', 'O'), ('di', 'IN', 'O'), ('Jabar', 'NN', 'O'), ('pada', 'IN', 'O'), ('pemilu', 'NN', 'O'), ('legislatif', 'JJ', 'O'), ('2014', 'CDP', 'O'), ('.', '.', 'O')]\n",
      "train sent = \n",
      "[('Pileg', 'NNP', 'O'), (',', ',', 'O'), ('kata', 'VBT', 'O'), ('Nurul', 'NNP', 'O'), ('lagi', 'RB', 'O'), (',', ',', 'O'), ('tak', 'NEG', 'O'), ('bisa', 'MD', 'O'), ('disamakan', 'VBT', 'O'), ('dengan', 'IN', 'O'), ('Pilgub', 'NNP', 'O'), ('.', '.', 'O')]\n",
      "train sent = \n",
      "[('Dalam', 'IN', 'O'), ('Pileg', 'NNP', 'O'), (',', ',', 'O'), ('semua', 'CDI', 'O'), ('partai', 'NN', 'O'), ('dan', 'CC', 'O'), ('caleg', 'NN', 'O'), ('turun', 'VBI', 'O'), ('bersama', 'IN', 'O'), ('-', '-', 'O'), ('sama', 'JJ', 'O'), ('.', '.', 'O')]\n",
      "train sent = \n",
      "[('\"', '\"', 'O'), ('Pasti', 'JJ', 'O'), ('lebih', 'RB', 'O'), ('kompetitif', 'JJ', 'O'), ('.', '.', 'O'), ('Dalam', 'IN', 'O'), ('survei', 'NN', 'O'), ('-', '-', 'O'), ('survei', 'NN', 'O'), ('Golkar', 'NNP', 'O'), ('selalu', 'RB', 'O'), ('memimpin', 'VBT', 'O'), ('.', '.', 'O'), ('Jadi', 'JJ', 'O'), (',', ',', 'O'), ('kami', 'PRP', 'O'), ('optimis', 'JJ', 'O'), ('dapat', 'MD', 'O'), ('memenangkan', 'VBT', 'O'), ('pertarungan', 'NN', 'O'), ('di', 'IN', 'O'), ('Pileg', 'NNP', 'O'), ('2014,', 'IN', 'O'), ('\"', '\"', 'O'), ('Nurul', 'NNP', 'O'), ('menegaskan', 'VBT', 'O'), ('.', '.', 'O')]\n",
      "train sent = \n",
      "[('Menkokesra', 'NN', 'O'), ('Agung', 'JJ', 'O'), ('Laksono', 'NN', 'O'), ('yang', 'SC', 'O'), ('berasal', 'VBI', 'O'), ('dari', 'IN', 'O'), ('Partai', 'NN', 'O'), ('Golkar', 'NNP', 'O'), ('menegaskan', 'VBT', 'O'), ('semua', 'CDI', 'O'), ('Menteri', 'NN', 'O'), ('dari', 'IN', 'O'), ('Golkar', 'NNP', 'O'), ('sudah', 'MD', 'O'), ('menyampaikan', 'VBT', 'O'), ('kepada', 'IN', 'O'), ('Ketua', 'NN', 'O'), ('Umumnya', 'NN', 'O'), ('bahwa', 'SC', 'O'), ('mereka', 'PRP', 'O'), ('tidak', 'NEG', 'O'), ('bisa', 'MD', 'O'), ('berkampanye', 'VBI', 'O'), ('di', 'IN', 'O'), ('hari', 'NN', 'O'), ('kerja', 'NN', 'O'), ('.', '.', 'O')]\n",
      "train sent = \n",
      "[('Sejak', 'IN', 'O'), ('awal', 'JJ', 'O'), (',', ',', 'O'), ('kata', 'VBT', 'O'), ('Agung', 'JJ', 'O'), (',', ',', 'O'), ('Menteri', 'NN', 'O'), ('berasal', 'VBI', 'O'), ('dari', 'IN', 'O'), ('Golkar', 'NNP', 'O'), ('sudah', 'MD', 'O'), ('mengungkapkan', 'VBT', 'O'), ('hal', 'NN', 'O'), ('itu', 'DT', 'O'), ('kepada', 'IN', 'O'), ('Aburizal', 'NNP', 'O'), ('Bakrie', 'NNP', 'O'), ('.', '.', 'O')]\n",
      "train sent = \n",
      "[('\"', '\"', 'O'), ('Sudah', 'MD', 'O'), ('ada', 'VBI', 'O'), ('dari', 'IN', 'O'), ('awal', 'JJ', 'O'), ('sudah', 'MD', 'O'), ('kami', 'PRP', 'O'), ('sampaikan', 'VBT', 'O'), ('pada', 'IN', 'O'), ('ketum', 'NN', 'O'), ('bahwa', 'SC', 'O'), ('sejak', 'IN', 'O'), ('awal', 'JJ', 'O'), ('kita', 'PRP', 'O'), ('nggak', 'NN', 'O'), ('mungkin', 'RB', 'O'), ('lagi', 'RB', 'O'), ('berkegiatan', 'VBI', 'O'), ('pada', 'IN', 'O'), ('hari', 'NN', 'O'), ('-', '-', 'O'), ('hari', 'NN', 'O'), ('kerja,', 'NN', 'O'), ('\"', '\"', 'O'), ('tegas', 'NN', 'O'), ('Agung', 'JJ', 'O'), ('kepada', 'IN', 'O'), ('wartawan', 'NN', 'O'), ('termasuk', 'VBT', 'O'), ('Tribunnews.com', 'NNP', 'O'), (',', ',', 'O'), ('di', 'IN', 'O'), ('Kompleks', 'NN', 'O'), ('Istana', 'NN', 'O'), ('Negara', 'NN', 'O'), (',', ',', 'O'), ('Jakarta', 'NNP', 'O'), (',', ',', 'O'), ('Selasa', 'NN', 'O'), ('(', 'OP', 'O'), ('29/1/2013)', '1', 'O'), ('.', '.', 'O')]\n",
      "train sent = \n",
      "[('Karena', 'CC', 'O'), ('itu', 'DT', 'O'), (',', ',', 'O'), ('dia', 'PRP', 'O'), ('meminta', 'VBT', 'O'), ('agar', 'IN', 'O'), ('masyarakat', 'NN', 'O'), ('tidak', 'NEG', 'O'), ('perlu', 'MD', 'O'), ('khawatir', 'JJ', 'O'), ('bahwa', 'SC', 'O'), ('Menteri', 'NN', 'O'), ('tidak', 'NEG', 'O'), ('akan', 'MD', 'O'), ('fokus', 'NN', 'O'), ('berkerja', 'NN', 'O'), ('.', '.', 'O')]\n",
      "train sent = \n",
      "[('\"', '\"', 'O'), ('Tidak', 'NEG', 'O'), ('usah', 'VBI', 'O'), ('khawatir', 'JJ', 'O'), ('mengganggu', 'VBT', 'O'), ('kinerja', 'NN', 'O'), ('.', '.', 'O'), ('Sistem', 'NN', 'O'), ('ini', 'DT', 'O'), ('berjalan', 'VBI', 'O'), ('kok', 'NN', 'O'), ('.', '.', 'O'), ('Setiap', 'DT', 'O'), ('-', '-', 'O'), ('tiap', 'NN', 'O'), ('kementerian', 'NN', 'O'), ('berjalan,', 'CDI', 'O'), ('\"', '\"', 'O'), ('dia', 'PRP', 'O'), ('tegaskan', 'NN', 'O'), ('.', '.', 'O')]\n",
      "train sent = \n",
      "[('Kembali', 'RB', 'O'), ('dia', 'PRP', 'O'), ('pastikan', 'NN', 'O'), (',', ',', 'O'), ('bahwa', 'SC', 'O'), ('Partai', 'NN', 'O'), ('Golkar', 'NNP', 'O'), ('pun', 'RP', 'O'), ('tidak', 'NEG', 'O'), ('akan', 'MD', 'O'), ('\"', '\"', 'O'), ('mengganggu', 'VBT', 'O'), ('\"', '\"', 'O'), ('Kadernya', 'NN', 'O'), ('yang', 'SC', 'O'), ('di', 'IN', 'O'), ('Kabinet', 'NN', 'O'), ('untuk', 'IN', 'O'), ('urusan', 'NN', 'O'), ('Kampanye', 'NN', 'O'), ('Pemilu', 'NN', 'O'), ('2014', 'CDP', 'O'), ('.', '.', 'O')]\n",
      "train sent = \n"
     ]
    },
    {
     "name": "stdout",
     "output_type": "stream",
     "text": [
      "[('\"', '\"', 'O'), ('Partai', 'NN', 'O'), ('kami', 'PRP', 'O'), ('tetap', 'JJ', 'O'), ('minta', 'VBI', 'O'), ('bekerja', 'VBI', 'O'), ('untuk', 'IN', 'O'), ('rakyat', 'NN', 'O'), ('.', '.', 'O'), ('Bahkan', 'RB', 'O'), ('memicu', 'VBT', 'O'), ('kami', 'PRP', 'O'), ('karena', 'CC', 'O'), ('ada', 'VBI', 'O'), ('target', 'NN', 'O'), ('-', '-', 'O'), ('target', 'NN', 'O'), ('yang', 'SC', 'O'), ('diawasi', 'VBT', 'O'), ('oleh', 'IN', 'O'), ('UKP4,', 'NN', 'O'), ('\"', '\"', 'O'), ('jelasnya', 'JJ', 'O'), ('lagi', 'RB', 'O'), ('.', '.', 'O')]\n",
      "train sent = \n",
      "[('Sebelumnya', 'NNG', 'O'), (',', ',', 'O'), ('Lingkaran', 'NN', 'O'), ('Survei', 'NN', 'O'), ('Indoensia', 'NNP', 'O'), ('(', 'OP', 'O'), ('LSI', 'NNP', 'O'), (')', 'CP', 'O'), ('melakukan', 'VBT', 'O'), ('survei', 'NN', 'O'), ('terkait', 'VBT', 'O'), ('kinerja', 'NN', 'O'), ('Kabinet', 'NN', 'O'), ('Indonesia', 'NNP', 'O'), ('Bersatu', 'NN', 'O'), ('(', 'OP', 'O'), ('KIB', 'NNP', 'O'), (')', 'CP', 'O'), ('II', 'CDO', 'O'), ('memasuki', 'VBT', 'O'), ('tahun', 'NN', 'O'), ('politik', 'NN', 'O'), ('.', '.', 'O')]\n",
      "train sent = \n",
      "[('Mayoritas', 'NN', 'O'), ('responden', 'NN', 'O'), ('khawatir', 'JJ', 'O'), ('menteri', 'NN', 'O'), ('parpol', 'DT', 'O'), ('tak', 'NEG', 'O'), ('lagi', 'RB', 'O'), ('fokus', 'NN', 'O'), ('bekerja', 'VBI', 'O'), ('di', 'IN', 'O'), ('tahun', 'NN', 'O'), ('politik', 'NN', 'O'), ('.', '.', 'O')]\n",
      "train sent = \n",
      "[('\"', '\"', 'O'), ('Mayoritas', 'NN', 'O'), ('publik', 'NN', 'O'), ('khawatir', 'JJ', 'O'), ('pada', 'IN', 'O'), ('menteri', 'NN', 'O'), ('dari', 'IN', 'O'), ('parpol', 'DT', 'O'), ('tidak', 'NEG', 'O'), ('lagi', 'RB', 'O'), ('fokus', 'NN', 'O'), ('menjalankan', 'VBT', 'O'), ('tugas', 'NN', 'O'), ('di', 'IN', 'O'), ('kementerian,', 'NN', 'O'), ('\"', '\"', 'O'), ('ujar', 'VBT', 'O'), ('peneliti', 'NN', 'O'), ('LSI', 'NNP', 'O'), (',', ',', 'O'), ('Ardian', 'NNP', 'O'), ('Sofa', 'NNP', 'O'), (',', ',', 'O'), ('menyampaikan', 'VBT', 'O'), ('poin', 'NN', 'O'), ('kesimpulan', 'NN', 'O'), ('survei', 'NN', 'O'), ('LSI', 'NN', 'O'), ('di', 'IN', 'O'), ('Kantor', 'NN', 'O'), ('Lingkaran', 'NN', 'O'), ('Survei', 'NN', 'O'), ('Indonesia', 'NNP', 'O'), ('di', 'IN', 'O'), ('Jl', 'NN', 'O'), ('Pramuka', 'NNP', 'O'), (',', ',', 'O'), ('Jakarta', 'NNP', 'O'), ('Timur', 'NN', 'O'), (',', ',', 'O'), ('Selasa', 'NN', 'O'), ('(', 'OP', 'O'), ('29/1/2013)', '1', 'O'), ('.', '.', 'O')]\n",
      "train sent = \n",
      "[('Berdasarkan', 'VBT', 'O'), ('survei', 'NN', 'O'), ('yang', 'SC', 'O'), ('dilakukan', 'VBT', 'O'), ('oleh', 'IN', 'O'), ('LSI', 'NNP', 'O'), (',', ',', 'O'), ('sebanyak', 'CDI', 'O'), ('86,35', 'CDP', 'O'), ('persen', 'NN', 'O'), ('responden', 'NN', 'O'), ('khawatir', 'JJ', 'O'), ('menteri', 'NN', 'O'), ('dari', 'IN', 'O'), ('parpol', 'DT', 'O'), ('tak', 'NEG', 'O'), ('lagi', 'RB', 'O'), ('fokus', 'NN', 'O'), ('bekerja', 'VBI', 'O'), (',', ',', 'O'), ('sementara', 'CC', 'O'), ('10,79', 'CDP', 'O'), ('persen', 'NN', 'O'), ('responden', 'NN', 'O'), ('percaya', 'JJ', 'O'), ('para', 'DT', 'O'), ('menteri', 'NN', 'O'), ('parpol', 'DT', 'O'), ('masih', 'RB', 'O'), ('bisa', 'MD', 'O'), ('bekerja', 'VBI', 'O'), ('dengan', 'IN', 'O'), ('baik', 'JJ', 'O'), ('.', '.', 'O')]\n",
      "train sent = \n",
      "[('Sementara', 'CC', 'O'), ('sebanyak', 'CDI', 'O'), ('2,86', 'CDP', 'O'), ('persen', 'NN', 'O'), ('responden', 'NN', 'O'), ('menjawab', 'VBT', 'O'), ('tidak', 'NEG', 'O'), ('tahu', 'VBI', 'O'), ('.', '.', 'O')]\n",
      "train sent = \n",
      "[('Survei', 'NN', 'O'), ('dilakukan', 'VBT', 'O'), ('pada', 'IN', 'O'), ('22', 'CDP', 'O'), ('-', '-', 'O'), ('25', 'CDP', 'O'), ('Januari', 'NN', 'O'), ('2013', 'CDP', 'O'), (',', ',', 'O'), ('dengan', 'IN', 'O'), ('motede', 'NN', 'O'), ('multistage', 'NN', 'O'), ('random', 'NN', 'O'), ('sampling', 'JJ', 'O'), ('dengan', 'IN', 'O'), ('1200', 'CDP', 'O'), ('responden', 'NN', 'O'), ('yang', 'SC', 'O'), ('tersebar', 'VBI', 'O'), ('di', 'IN', 'O'), ('seluruh', 'CDI', 'O'), ('Indonesia', 'NNP', 'O'), ('.', '.', 'O')]\n",
      "train sent = \n",
      "[('Wawancara', 'NN', 'O'), ('menggunakan', 'VBT', 'O'), ('metode', 'NN', 'O'), ('handset', 'RB', 'O'), ('dengan', 'IN', 'O'), ('margin', 'NN', 'O'), ('error', 'NN', 'O'), ('2,9', 'CDP', 'O'), ('persen', 'NN', 'O'), ('.', '.', 'O')]\n",
      "train sent = \n",
      "[('Politikus', 'NN', 'O'), ('PDI', 'NN', 'O'), ('Perjuangan', 'NN', 'O'), ('Guruh', 'NN', 'O'), ('Soekarnoputra', 'NNP', 'O'), ('menjenguk', 'VBT', 'O'), ('Ketua', 'NN', 'O'), ('Umum', 'JJ', 'O'), ('Partai', 'NN', 'O'), ('Gerindra', 'NNP', 'O'), ('Suhardi', 'NNP', 'O'), ('di', 'IN', 'O'), ('Rumah', 'NN', 'O'), ('Sakit', 'JJ', 'O'), ('Pusat', 'NN', 'O'), ('Pertamina', 'NN', 'O'), (',', ',', 'O'), ('Jakarta', 'NNP', 'O'), ('Pusat', 'NN', 'O'), ('.', '.', 'O')]\n",
      "train sent = \n",
      "[('Suhardi', 'NNP', 'O'), ('mengalami', 'VBT', 'O'), ('sakit', 'JJ', 'O'), ('kanker', 'NN', 'O'), ('paru', 'NN', 'O'), ('-', '-', 'O'), ('paru', 'NN', 'O'), ('stadium', 'NN', 'O'), ('empat', 'CDP', 'O'), ('dan', 'CC', 'O'), ('dalam', 'IN', 'O'), ('kondisi', 'NN', 'O'), ('kritis', 'JJ', 'O'), ('.', '.', 'O')]\n",
      "train sent = \n",
      "[('Guruh', 'NNP', 'O'), ('berbagi', 'VBI', 'O'), ('sedikit', 'JJ', 'O'), ('cerita', 'NN', 'O'), ('mengenai', 'VBT', 'O'), ('sosok', 'NNP', 'O'), ('Suhardi', 'NNP', 'O'), ('sebagai', 'IN', 'O'), ('politikus', 'NN', 'O'), ('.', '.', 'O')]\n",
      "train sent = \n",
      "[('\"', '\"', 'O'), ('Pak', 'NNP', 'O'), ('Suhardi', 'NNP', 'O'), ('itu', 'DT', 'O'), ('bawaannya', 'NN', 'O'), ('kalem', 'NN', 'O'), ('.', '.', 'O'), ('Tenanglah', 'NNP', 'O'), ('Pak', 'NNP', 'O'), ('Suhardi,', 'NNP', 'O'), ('\"', '\"', 'O'), ('kata', 'VBT', 'O'), ('dia', 'PRP', 'O'), ('usai', 'VBI', 'O'), ('menjenguk', 'VBT', 'O'), ('Suhardi', 'NNP', 'O'), ('di', 'IN', 'O'), ('RSPP', 'NNP', 'O'), (',', ',', 'O'), ('Jakarta', 'NNP', 'O'), (',', ',', 'O'), ('Selasa', 'NN', 'O'), (',', ',', 'O'), ('26', 'CDP', 'O'), ('Agustus', 'NN', 'O'), ('2014', 'CDP', 'O'), ('.', '.', 'O')]\n",
      "train sent = \n",
      "[('Ada', 'VBI', 'O'), ('satu', 'CDP', 'O'), ('hal', 'NN', 'O'), ('yang', 'SC', 'O'), ('paling', 'RB', 'O'), ('diingat', 'VBT', 'O'), ('Guruh', 'NN', 'O'), ('mengenai', 'VBT', 'O'), ('guru', 'NN', 'O'), ('besar', 'JJ', 'O'), ('Fakultas', 'NNP', 'O'), ('Kehutanan', 'NN', 'O'), ('Universitas', 'NN', 'O'), ('Gadjah', 'NN', 'O'), ('Mada', 'NN', 'O'), ('itu', 'DT', 'O'), ('.', '.', 'O')]\n",
      "train sent = \n",
      "[('Suhardi', 'NN', 'O'), ('pantang', 'NN', 'O'), ('makan', 'VBT', 'O'), ('makanan', 'NN', 'O'), ('yang', 'SC', 'O'), ('terbuat', 'VBI', 'O'), ('dari', 'IN', 'O'), ('gandum', 'NN', 'O'), ('.', '.', 'O')]\n",
      "train sent = \n",
      "[('\"', '\"', 'O'), ('Pak', 'NNP', 'O'), ('Suhardi', 'NNP', 'O'), ('berpantang', 'VBI', 'O'), ('untuk', 'IN', 'O'), ('makan', 'VBT', 'O'), ('gandum', 'NN', 'O'), (',', ',', 'O'), ('roti', 'NN', 'O'), ('ataupun', 'CC', 'O'), ('mi', 'NN', 'O'), ('.', '.', 'O'), ('Atau', 'CC', 'O'), ('apa', 'WP', 'O'), ('pun', 'RP', 'O'), ('yang', 'SC', 'O'), ('terbuat', 'VBI', 'O'), ('dari', 'IN', 'O'), ('gandum,', 'NN', 'O'), ('\"', '\"', 'O'), ('kata', 'VBT', 'O'), ('dia', 'PRP', 'O'), ('tanpa', 'RB', 'O'), ('menjelaskan', 'VBI', 'O'), ('lebih', 'RB', 'O'), ('jauh', 'JJ', 'O'), ('alasannya', 'NN', 'O'), ('.', '.', 'O')]\n",
      "train sent = \n",
      "[('Sebelum', 'SC', 'O'), ('bergabung', 'VBI', 'O'), ('di', 'IN', 'O'), ('Partai', 'NN', 'O'), ('Gerindra', 'NN', 'O'), ('dan', 'CC', 'O'), ('menjabat', 'VBT', 'O'), ('sebagai', 'IN', 'O'), ('ketua', 'NN', 'O'), ('umum', 'JJ', 'O'), (',', ',', 'O'), ('Suhardi', 'NN', 'O'), ('sibuk', 'JJ', 'O'), ('sebagai', 'IN', 'O'), ('akademikus', 'NN', 'O'), ('.', '.', 'O')]\n",
      "train sent = \n",
      "[('Pernah', 'NN', 'O'), ('menjabat', 'VBT', 'O'), ('sebagai', 'IN', 'O'), ('Dekan', 'NN', 'O'), ('Fakultas', 'NNP', 'O'), ('Kehutanan', 'NN', 'O'), ('UGM', 'NN', 'O'), (',', ',', 'O'), ('ia', 'PRP', 'O'), ('meninggalkan', 'VBT', 'O'), ('sejumlah', 'CDI', 'O'), ('karya', 'NN', 'O'), ('dan', 'CC', 'O'), ('pemikiran', 'NN', 'O'), ('.', '.', 'O')]\n",
      "train sent = \n"
     ]
    },
    {
     "name": "stdout",
     "output_type": "stream",
     "text": [
      "[('Ia', 'PRP', 'O'), ('juga', 'RB', 'O'), ('dikenal', 'VBT', 'O'), ('di', 'IN', 'O'), ('kampus', 'NN', 'O'), ('sebagai', 'IN', 'O'), ('profesor', 'NN', 'O'), ('telo', 'NN', 'O'), ('(', 'OP', 'O'), ('ketela', 'NN', 'O'), (')', 'CP', 'O'), ('karena', 'CC', 'O'), ('tidak', 'NEG', 'O'), ('pernah', 'RB', 'O'), ('bosan', 'MD', 'O'), ('mengkampanyekan', 'VBT', 'O'), ('untuk', 'IN', 'O'), ('mengkonsumsi', 'VBT', 'O'), ('bahan', 'NN', 'O'), ('pangan', 'NN', 'O'), ('lokal', 'NN', 'O'), ('tersebut', 'DT', 'O'), ('.', '.', 'O')]\n",
      "train sent = \n",
      "[('Sekretaris', 'NN', 'O'), ('Kabinet', 'NN', 'O'), ('Andi', 'NNP', 'O'), ('Widjajanto', 'NNP', 'O'), ('mengatakan', 'VBI', 'O'), ('Presiden', 'NN', 'O'), ('Joko', 'NNP', 'O'), ('Widodo', 'NNP', 'O'), ('telah', 'MD', 'O'), ('memilih', 'VBT', 'O'), ('politikus', 'NN', 'O'), ('Partai', 'NN', 'O'), ('NasDem', 'NNP', 'O'), (',', ',', 'O'), ('H.', 'NN', 'O'), ('M.', 'NNP', 'O')]\n",
      "train sent = \n",
      "[('Prasetyo', 'NNP', 'O'), (',', ',', 'O'), ('untuk', 'IN', 'O'), ('menjadi', 'VBT', 'O'), ('Jaksa', 'NNP', 'O'), ('Agung', 'JJ', 'O'), ('.', '.', 'O')]\n",
      "train sent = \n",
      "[('Keputusan', 'NN', 'O'), ('tersebut', 'DT', 'O'), ('diambil', 'VBT', 'O'), ('Presiden', 'NN', 'O'), ('Joko', 'NNP', 'O'), ('Widodo', 'NNP', 'O'), ('pagi', 'NN', 'O'), ('tadi', 'RB', 'O'), ('.', '.', 'O')]\n",
      "train sent = \n",
      "[('\"', '\"', 'O'), ('Benar', 'JJ', 'O'), (',', ',', 'O'), ('Jaksa', 'NNP', 'O'), ('Agung', 'JJ', 'O'), ('Prasetyo', 'NNP', 'O'), ('.', '.', 'O'), ('Tadi', 'RB', 'O'), ('pagi', 'NN', 'O'), ('(', 'OP', 'O'), ('keputusannya),', 'IN', 'O'), ('\"', '\"', 'O'), ('kata', 'VBT', 'O'), ('Andi', 'NNP', 'O'), ('kepada', 'IN', 'O'), ('Tempo', 'NNP', 'O'), ('di', 'IN', 'O'), ('Jakarta', 'NNP', 'O'), (',', ',', 'O'), ('Kamis', 'NN', 'O'), (',', ',', 'O'), ('20', 'CDP', 'O'), ('November', 'NN', 'O'), ('2014', 'CDP', 'O'), ('.', '.', 'O')]\n",
      "train sent = \n",
      "[('Andi', 'PRP', 'O'), ('mengatakan', 'VBI', 'O'), ('keputusan', 'NN', 'O'), ('presiden', 'NN', 'O'), ('(', 'OP', 'O'), ('keppres', 'NN', 'O'), (')', 'CP', 'O'), ('telah', 'MD', 'O'), ('disiapkan', 'VBT', 'O'), ('mengenai', 'VBT', 'O'), ('pengangkatan', 'NN', 'O'), ('Prasetyo', 'NNP', 'O'), ('sebagai', 'IN', 'O'), ('Jaksa', 'NNP', 'O'), ('Agung', 'JJ', 'O'), ('untuk', 'IN', 'O'), ('mengganti', 'VBT', 'O'), ('Basrief', 'NNP', 'O'), ('Arief', 'NNP', 'O'), ('.', '.', 'O')]\n",
      "train sent = \n",
      "[('\"', '\"', 'O'), ('Keppresnya', 'NN', 'O'), ('sudah', 'MD', 'O'), ('keluar', 'VBI', 'O'), (',', ',', 'O'), ('nomornya', 'NN', 'O'), ('nanti', 'NN', 'O'), ('saja', 'RB', 'O'), ('setelah', 'SC', 'O'), ('dilantik,', 'VBT', 'O'), ('\"', '\"', 'O'), ('katanya', 'VBT', 'O'), ('.', '.', 'O')]\n",
      "train sent = \n",
      "[('Andi', 'PRP', 'O'), ('mengatakan', 'VBI', 'O'), ('Jokowi', 'NNP', 'O'), ('rencananya', 'NNG', 'O'), ('melantik', 'VBT', 'O'), ('Prasetyo', 'NNP', 'O'), ('sebagai', 'IN', 'O'), ('Jaksa', 'NNP', 'O'), ('Agung', 'JJ', 'O'), ('pada', 'IN', 'O'), ('siang', 'NN', 'O'), ('ini', 'DT', 'O'), ('pukul', 'NN', 'O'), ('14.00', 'JJ', 'O'), ('di', 'IN', 'O'), ('Istana', 'NN', 'O'), ('Negara', 'NN', 'O'), ('.', '.', 'O')]\n",
      "train sent = \n",
      "[('Prasetyo', 'NNP', 'O'), ('merupakan', 'VBT', 'O'), ('politikus', 'NN', 'O'), ('Partai', 'NN', 'O'), ('NasDem', 'NNP', 'O'), ('yang', 'SC', 'O'), ('kini', 'RB', 'O'), ('menjadi', 'VBT', 'O'), ('anggota', 'NN', 'O'), ('DPR', 'NN', 'O'), ('periode', 'NN', 'O'), ('2014', 'CDP', 'O'), ('-', '-', 'O'), ('2019', 'CDP', 'O'), (',', ',', 'O'), ('yang', 'SC', 'O'), ('terpilih', 'VBI', 'O'), ('dari', 'IN', 'O'), ('daerah', 'NN', 'O'), ('pemilihan', 'NN', 'O'), ('Jawa', 'NN', 'O'), ('Tengah', 'NN', 'O'), ('II', 'CDO', 'O'), ('.', '.', 'O')]\n",
      "train sent = \n",
      "[('Prasetyo', 'NNP', 'O'), ('tak', 'NEG', 'O'), ('sepenuhnya', 'RB', 'O'), ('politikus', 'NN', 'O'), ('.', '.', 'O')]\n",
      "train sent = \n",
      "[('Sebelum', 'SC', 'O'), ('menjadi', 'VBT', 'O'), ('anggota', 'NN', 'O'), ('Dewan', 'NN', 'O'), ('Perwakilan', 'NN', 'O'), ('Rakyat', 'NN', 'O'), (',', ',', 'O'), ('Prasetyo', 'NNP', 'O'), ('juga', 'RB', 'O'), ('seorang', 'NN', 'O'), ('jaksa', 'NN', 'O'), ('.', '.', 'O')]\n",
      "train sent = \n",
      "[('Ia', 'PRP', 'O'), ('pernah', 'RB', 'O'), ('menjabat', 'VBT', 'O'), ('sebagai', 'IN', 'O'), ('Jaksa', 'NNP', 'O'), ('Agung', 'JJ', 'O'), ('Muda', 'JJ', 'O'), ('Pidana', 'NNP', 'O'), ('Umum', 'JJ', 'O'), ('tahun', 'NN', 'O'), ('2005', 'CDP', 'O'), ('-', '-', 'O'), ('2006', 'CDP', 'O'), ('serta', 'CC', 'O'), ('pernah', 'RB', 'O'), ('menjadi', 'VBT', 'O'), ('Kepala', 'NN', 'O'), ('Kejaksaan', 'NN', 'O'), ('Tinggi', 'JJ', 'O'), ('Sulawesi', 'NN', 'O'), ('Selatan', 'NN', 'O'), ('.', '.', 'O')]\n",
      "train sent = \n",
      "[('Selama', 'IN', 'O'), ('menjadi', 'VBT', 'O'), ('jaksa', 'NN', 'O'), (',', ',', 'O'), ('tak', 'NEG', 'O'), ('ada', 'VBI', 'O'), ('rekam', 'NN', 'O'), ('jejak', 'NN', 'O'), ('yang', 'SC', 'O'), ('menonjol', 'VBT', 'O'), ('dari', 'IN', 'O'), ('pria', 'NN', 'O'), ('yang', 'SC', 'O'), ('diusung', 'VBT', 'O'), ('oleh', 'IN', 'O'), ('Ketua', 'NN', 'O'), ('Umum', 'JJ', 'O'), ('NasDem', 'NNP', 'O'), ('Surya', 'NNP', 'O'), ('Paloh', 'NNP', 'O'), ('itu', 'DT', 'O'), ('.', '.', 'O')]\n",
      "train sent = \n",
      "[('Hal', 'NN', 'O'), ('ini', 'DT', 'O'), ('membuat', 'VBT', 'O'), ('kompetensi', 'NN', 'O'), ('Prasetyo', 'NNP', 'O'), ('diragukan', 'VBT', 'O'), ('oleh', 'IN', 'O'), ('lembaga', 'NN', 'O'), ('-', '-', 'O'), ('lembaga', 'NN', 'O'), ('antikorupsi', 'NN', 'O'), (',', ',', 'O'), ('seperti', 'IN', 'O'), ('Indonesia', 'NNP', 'O'), ('Corruption', 'NNP', 'O'), ('Watch', 'NNP', 'O'), ('.', '.', 'O')]\n",
      "train sent = \n",
      "[('Sebelumnya', 'NNG', 'O'), (',', ',', 'O'), ('selain', 'SC', 'O'), ('Prasetyo', 'NNP', 'O'), (',', ',', 'O'), ('muncul', 'VBT', 'O'), ('beberapa', 'CDI', 'O'), ('nama', 'NN', 'O'), ('calon', 'NN', 'O'), ('Jaksa', 'NNP', 'O'), ('Agung', 'JJ', 'O'), (',', ',', 'O'), ('seperti', 'IN', 'O'), ('Kepala', 'NN', 'O'), ('Pusat', 'NN', 'O'), ('Pelaporan', 'NN', 'O'), ('dan', 'CC', 'O'), ('Analisis', 'NN', 'O'), ('Transaksi', 'NN', 'O'), ('Keuangan', 'NN', 'O'), ('Muhammad', 'NNP', 'O'), ('Yusuf', 'NNP', 'O'), (',', ',', 'O'), ('serta', 'CC', 'O'), ('dari', 'IN', 'O'), ('internal', 'NN', 'O'), ('Kejaksaan', 'NN', 'O'), ('ada', 'VBI', 'O'), ('Widyo', 'NNP', 'O'), ('Pramono', 'NNP', 'O'), ('dan', 'CC', 'O'), ('Andhi', 'NNP', 'O'), ('Nirwanto', 'NNP', 'O'), ('.', '.', 'O')]\n",
      "train sent = \n",
      "[('Presiden', 'NN', 'O'), ('Partai', 'NN', 'O'), ('Keadilan', 'NN', 'O'), ('Sejahtera', 'NN', 'O'), ('Anis', 'NNP', 'O'), ('Matta', 'NNP', 'O'), ('hanya', 'RB', 'O'), ('bisa', 'MD', 'O'), ('tersenyum', 'VBT', 'O'), ('ketika', 'SC', 'O'), ('ditanya', 'VBT', 'O'), ('soal', 'NN', 'O'), ('pencalonannya', 'NN', 'O'), ('sebagai', 'IN', 'O'), ('presiden', 'NN', 'O'), ('pada', 'IN', 'O'), ('Pemilu', 'NN', 'O'), ('2014', 'CDP', 'O'), ('.', '.', 'O')]\n",
      "train sent = \n",
      "[('Saat', 'NN', 'O'), ('ini', 'DT', 'O'), (',', ',', 'O'), ('kata', 'VBT', 'O'), ('Anis', 'NNP', 'O'), (',', ',', 'O'), ('ia', 'PRP', 'O'), ('fokus', 'NN', 'O'), ('pada', 'IN', 'O'), ('pemenangan', 'NN', 'O'), ('PKS', 'NN', 'O'), ('pada', 'IN', 'O'), ('Pemilu', 'NN', 'O'), ('Legislatif', 'NN', 'O'), ('2014', 'CDP', 'O'), ('.', '.', 'O')]\n",
      "train sent = \n",
      "[('\"', '\"', 'O'), ('Soal', 'NN', 'O'), ('calon', 'NN', 'O'), ('presiden', 'NN', 'O'), ('itu', 'DT', 'O'), ('urusan', 'NN', 'O'), ('nanti', 'NN', 'O'), (',', ',', 'O'), ('yang', 'SC', 'O'), ('penting', 'JJ', 'O'), ('menang', 'VBT', 'O'), ('dulu', 'RB', 'O'), ('lah,', 'NN', 'O'), ('\"', '\"', 'O'), ('kata', 'VBT', 'O'), ('Anis', 'NNP', 'O'), ('di', 'IN', 'O'), ('Samarinda', 'NNP', 'O'), (',', ',', 'O'), ('Kalimantan', 'NN', 'O'), ('Timur', 'NN', 'O'), (',', ',', 'O'), ('Selasa', 'NN', 'O'), ('(', 'OP', 'O'), ('29/10/2013)', '10', 'O'), ('.', '.', 'O')]\n",
      "train sent = \n",
      "[('Ia', 'PRP', 'O'), ('menegaskan', 'VBT', 'O'), (',', ',', 'O'), ('PKS', 'NN', 'O'), ('belum', 'NEG', 'O'), ('membahas', 'VBT', 'O'), ('soal', 'NN', 'O'), ('bakal', 'MD', 'O'), ('calon', 'NN', 'O'), ('presiden', 'NN', 'O'), ('pada', 'IN', 'O'), ('Pemilu', 'NN', 'O'), ('2014', 'CDP', 'O'), ('.', '.', 'O')]\n",
      "train sent = \n",
      "[('Ia', 'PRP', 'O'), ('menekankan', 'VBT', 'O'), ('pentingnya', 'NNG', 'O'), ('Pemilu', 'NN', 'O'), ('Legislatif', 'NN', 'O'), ('2014', 'CDP', 'O'), ('.', '.', 'O')]\n",
      "train sent = \n"
     ]
    },
    {
     "name": "stdout",
     "output_type": "stream",
     "text": [
      "[('Pasalnya', 'NNP', 'O'), (',', ',', 'O'), ('perolehan', 'NN', 'O'), ('pada', 'IN', 'O'), ('tahapan', 'NN', 'O'), ('tersebut', 'DT', 'O'), ('menentukan', 'VBT', 'O'), ('apakah', 'WP', 'O'), ('PKS', 'NNP', 'O'), ('dapat', 'MD', 'O'), ('mengajukan', 'VBT', 'O'), ('calon', 'NN', 'O'), ('presiden', 'NN', 'O'), ('sendiri', 'JJ', 'O'), ('.', '.', 'O')]\n",
      "train sent = \n",
      "[('Sesuai', 'RB', 'O'), ('UU', 'NN', 'O'), ('Pemilu', 'NN', 'O'), ('Presiden', 'NN', 'O'), (',', ',', 'O'), ('pasangan', 'NN', 'O'), ('calon', 'NN', 'O'), ('presiden', 'NN', 'O'), ('-', '-', 'O'), ('calon', 'NN', 'O'), ('wakil', 'NN', 'O'), ('presiden', 'NN', 'O'), ('dapat', 'MD', 'O'), ('diajukan', 'VBT', 'O'), ('oleh', 'IN', 'O'), ('partai', 'NN', 'O'), ('politik', 'NN', 'O'), ('atau', 'CC', 'O'), ('gabungan', 'NN', 'O'), ('partai', 'NN', 'O'), ('politik', 'NN', 'O'), ('yang', 'SC', 'O'), ('memeroleh', 'VBT', 'O'), ('20', 'CDP', 'O'), ('persen', 'NN', 'O'), ('suara', 'NN', 'O'), ('pada', 'IN', 'O'), ('pemilu', 'NN', 'O'), ('legislatif', 'JJ', 'O'), ('.', '.', 'O')]\n",
      "train sent = \n",
      "[('Beberapa', 'CDI', 'O'), ('parpol', 'NN', 'O'), ('yang', 'SC', 'O'), ('telah', 'MD', 'O'), ('mengusung', 'VBT', 'O'), ('bakal', 'MD', 'O'), ('calon', 'NN', 'O'), ('presiden', 'NN', 'O'), ('adalah', 'VBT', 'O'), (',', ',', 'O'), ('di', 'IN', 'O'), ('antaranya', 'NNG', 'O'), (',', ',', 'O'), ('Golkar', 'NNP', 'O'), (',', ',', 'O'), ('PAN', 'NN', 'O'), (',', ',', 'O'), ('dan', 'CC', 'O'), ('Hanura', 'NNP', 'O'), ('.', '.', 'O')]\n",
      "train sent = \n",
      "[('Ketiga', 'CDO', 'O'), ('bakal', 'MD', 'O'), ('calon', 'NN', 'O'), ('presiden', 'NN', 'O'), ('itu', 'DT', 'O'), (',', ',', 'O'), ('masing', 'NN', 'O'), ('-', '-', 'O'), ('masing', 'NN', 'O'), (',', ',', 'O'), ('Aburizal', 'NNP', 'O'), ('\"', '\"', 'O'), ('Ical', 'NN', 'O'), ('\"', '\"', 'O'), ('Bakrie', 'NNP', 'O'), (',', ',', 'O'), ('Hatta', 'NNP', 'O'), ('Rajasa', 'NNP', 'O'), (',', ',', 'O'), ('dan', 'CC', 'O'), ('Wiranto', 'NNP', 'O'), ('.', '.', 'O')]\n",
      "train sent = \n",
      "[('Kuasa', 'NN', 'O'), ('hukum', 'NN', 'O'), ('pasangan', 'NN', 'O'), ('calon', 'NN', 'O'), ('presiden', 'NN', 'O'), ('-', '-', 'O'), ('wakil', 'NN', 'O'), ('presiden', 'NN', 'O'), ('Prabowo', 'NNP', 'O'), ('Subianto', 'NNP', 'O'), ('-', '-', 'O'), ('Hatta', 'NNP', 'O'), ('Rajasa', 'NNP', 'O'), (',', ',', 'O'), ('Firman', 'NNP', 'O'), ('Wijaya', 'NNP', 'O'), (',', ',', 'O'), ('mengatakan', 'VBI', 'O'), ('timnya', 'NNG', 'O'), ('menggugat', 'VBT', 'O'), ('Komisi', 'NN', 'O'), ('Pemilihan', 'NN', 'O'), ('Umum', 'JJ', 'O'), ('ke', 'IN', 'O'), ('Pengadilan', 'NN', 'O'), ('Negeri', 'NN', 'O'), ('Jakarta', 'NNP', 'O'), ('Pusat', 'NN', 'O'), ('.', '.', 'O')]\n",
      "train sent = \n",
      "[('Firman', 'NNP', 'O'), ('meyakini', 'VBT', 'O'), ('ada', 'VBI', 'O'), ('perbuatan', 'NN', 'O'), ('melawan', 'VBT', 'O'), ('hukum', 'NN', 'O'), ('yang', 'SC', 'O'), ('dilakukan', 'VBT', 'O'), ('KPU', 'NN', 'O'), ('.', '.', 'O')]\n",
      "train sent = \n",
      "[('Dengan', 'IN', 'O'), ('gugatan', 'NN', 'O'), ('tersebut', 'DT', 'O'), (',', ',', 'O'), ('terhitung', 'VBT', 'O'), ('sudah', 'MD', 'O'), ('ada', 'VBI', 'O'), ('tiga', 'CDP', 'O'), ('institusi', 'NN', 'O'), ('yang', 'SC', 'O'), ('menjadi', 'VBT', 'O'), ('tujuan', 'NN', 'O'), ('bagi', 'IN', 'O'), ('tim', 'NN', 'O'), ('Prabowo', 'NNP', 'O'), ('-', '-', 'O'), ('Hatta', 'NNP', 'O'), ('untuk', 'IN', 'O'), ('melayangkan', 'VBT', 'O'), ('tuntutan', 'NN', 'O'), ('mereka', 'PRP', 'O'), ('.', '.', 'O')]\n",
      "train sent = \n",
      "[('Sebelumnya', 'NNG', 'O'), (',', ',', 'O'), ('Prabowo', 'NNP', 'O'), ('-', '-', 'O'), ('Hatta', 'NNP', 'O'), ('menggugat', 'VBT', 'O'), ('ke', 'IN', 'O'), ('Mahkamah', 'NN', 'O'), ('Konstitusi', 'NN', 'O'), ('dan', 'CC', 'O'), ('Dewan', 'NN', 'O'), ('Kehormatan', 'NN', 'O'), ('Penyelenggara', 'NN', 'O'), ('Pemilu', 'NN', 'O'), ('.', '.', 'O')]\n",
      "train sent = \n",
      "[('\"', '\"', 'O'), ('Dasar', 'NN', 'O'), ('gugatan', 'NN', 'O'), ('yaitu', 'SC', 'O'), ('kerugian', 'NN', 'O'), ('materiil', 'NN', 'O'), ('dan', 'CC', 'O'), ('imateriil', 'NN', 'O'), ('yang', 'SC', 'O'), ('dialami', 'VBT', 'O'), ('delapan', 'CDP', 'O'), ('klien', 'NN', 'O'), ('kami', 'PRP', 'O'), ('karena', 'CC', 'O'), ('KPU', 'NNP', 'O'), ('melakukan', 'VBT', 'O'), ('pemilu', 'NN', 'O'), ('9', 'CDP', 'O'), ('Juli', 'NN', 'O'), ('2014,', 'NN', 'O'), ('\"', '\"', 'O'), ('kata', 'VBT', 'O'), ('Firman', 'NN', 'O'), ('saat', 'SC', 'O'), ('dihubungi', 'VBT', 'O'), (',', ',', 'O'), ('Sabtu', 'NN', 'O'), (',', ',', 'O'), ('16', 'CDP', 'O'), ('Agustus', 'NN', 'O'), ('2014', 'CDP', 'O'), ('.', '.', 'O')]\n",
      "train sent = \n",
      "[('\"', '\"', 'O'), ('KPU', 'NNP', 'O'), ('digugat', 'VBT', 'O'), ('karena', 'CC', 'O'), ('merupakan', 'VBT', 'O'), ('konsekuensi', 'NN', 'O'), ('dari', 'IN', 'O'), ('institusi', 'NN', 'O'), ('.', '.', 'O'), ('\"', '\"', 'O'), ('Firman', 'NNP', 'O'), ('belum', 'NEG', 'O'), ('menjelaskan', 'VBI', 'O'), ('profil', 'NN', 'O'), ('kedelapan', 'CDC', 'O'), ('orang', 'NN', 'O'), ('tersebut', 'DT', 'O'), ('.', '.', 'O')]\n",
      "train sent = \n",
      "[('\"', '\"', 'O'), ('Delapan', 'CDP', 'O'), ('orang', 'NN', 'O'), ('itu', 'DT', 'O'), ('merasa', 'VBT', 'O'), ('dirugikan', 'VBT', 'O'), ('lantaran', 'NN', 'O'), ('pada', 'IN', 'O'), ('9', 'CDP', 'O'), ('Juli', 'NN', 'O'), ('2014', 'CDP', 'O'), ('kehilangan', 'VBT', 'O'), ('pendapatan', 'NN', 'O'), ('karena', 'CC', 'O'), ('ada', 'VBI', 'O'), ('penyelenggaraan', 'NN', 'O'), ('pemilu', 'NN', 'O'), ('presiden,', 'NN', 'O'), ('\"', '\"', 'O'), ('ujar', 'VBT', 'O'), ('Firman', 'NN', 'O'), ('.', '.', 'O')]\n",
      "train sent = \n",
      "[('Dia', 'PRP', 'O'), ('mengatakan', 'VBI', 'O'), (',', ',', 'O'), ('pada', 'IN', 'O'), ('hari', 'NN', 'O'), ('-', '-', 'O'), ('hari', 'NN', 'O'), ('biasa', 'JJ', 'O'), (',', ',', 'O'), ('delapan', 'CDP', 'O'), ('orang', 'NN', 'O'), ('itu', 'DT', 'O'), ('mendapat', 'VBT', 'O'), ('penghasilan', 'NN', 'O'), ('sekitar', 'CDI', 'O'), ('Rp', 'CDP', 'O'), ('100', 'CDP', 'O'), ('ribu', 'CDP', 'O'), ('per', 'NN', 'O'), ('hari', 'NN', 'O'), ('.', '.', 'O')]\n",
      "train sent = \n",
      "[('\"', '\"', 'O'), ('Mereka', 'PRP', 'O'), ('memberikan', 'VBT', 'O'), ('kuasa', 'NN', 'O'), ('kepada', 'IN', 'O'), ('kami', 'PRP', 'O'), ('atas', 'IN', 'O'), ('kerugian', 'NN', 'O'), ('yang', 'SC', 'O'), ('mereka', 'PRP', 'O'), ('alami', 'NN', 'O'), ('.', '.', 'O'), ('\"', '\"', 'O'), ('Menurut', 'VBT', 'O'), ('Firman', 'NNP', 'O'), (',', ',', 'O'), ('gugatan', 'NN', 'O'), ('tim', 'NN', 'O'), ('hukum', 'NN', 'O'), ('Prabowo', 'NNP', 'O'), ('-', '-', 'O'), ('Hatta', 'NNP', 'O'), ('ke', 'IN', 'O'), ('PN', 'NN', 'O'), ('Jakarta', 'NNP', 'O'), ('Pusat', 'NN', 'O'), ('berbeda', 'JJ', 'O'), ('dengan', 'IN', 'O'), ('gugatan', 'NN', 'O'), ('ke', 'IN', 'O'), ('Mahkamah', 'NN', 'O'), ('Konstitusi', 'NN', 'O'), ('ataupun', 'CC', 'O'), ('ke', 'IN', 'O'), ('Dewan', 'NN', 'O'), ('Kehormatan', 'NN', 'O'), ('Penyelenggara', 'NN', 'O'), ('Pemilu', 'NN', 'O'), ('.', '.', 'O')]\n",
      "train sent = \n",
      "[('\"', '\"', 'O'), ('Gugatan', 'NNP', 'O'), ('ke', 'IN', 'O'), ('PN', 'NN', 'O'), ('Jakpus', 'NNP', 'O'), ('berada', 'VBI', 'O'), ('pada', 'IN', 'O'), ('ranah', 'NN', 'O'), ('pidana,', 'NN', 'O'), ('\"', '\"', 'O'), ('kata', 'VBT', 'O'), ('Firman', 'NN', 'O'), ('.', '.', 'O')]\n",
      "train sent = \n",
      "[('Firman', 'NNP', 'O'), ('berharap', 'VBT', 'O'), ('temuan', 'NN', 'O'), ('dugaan', 'NN', 'O'), ('pelanggaran', 'NN', 'O'), ('hukum', 'NN', 'O'), ('yang', 'SC', 'O'), ('diklaimnya', 'VBT', 'O'), ('bisa', 'MD', 'O'), ('dibuktikan', 'VBT', 'O'), ('di', 'IN', 'O'), ('persidangan', 'NN', 'O'), ('PN', 'NN', 'O'), ('Jakarta', 'NNP', 'O'), ('Pusat', 'NN', 'O'), ('.', '.', 'O')]\n",
      "train sent = \n",
      "[('Dia', 'PRP', 'O'), ('juga', 'RB', 'O'), ('meminta', 'VBT', 'O'), ('Pengadilan', 'NN', 'O'), ('cepat', 'JJ', 'O'), ('merespons', 'VBT', 'O'), ('gugatan', 'NN', 'O'), ('tersebut', 'DT', 'O'), ('.', '.', 'O')]\n",
      "train sent = \n",
      "[('Hasil', 'NN', 'O'), ('persidangan', 'NN', 'O'), ('atas', 'IN', 'O'), ('gugatan', 'NN', 'O'), ('tersebut', 'DT', 'O'), (',', ',', 'O'), ('menurut', 'VBT', 'O'), ('Firman', 'NNP', 'O'), (',', ',', 'O'), ('tak', 'NEG', 'O'), ('bisa', 'MD', 'O'), ('menjadi', 'VBT', 'O'), ('novum', 'NN', 'O'), ('untuk', 'IN', 'O'), ('menggugat', 'VBT', 'O'), ('hasil', 'NN', 'O'), ('pemilihan', 'NN', 'O'), ('presiden', 'NN', 'O'), ('ke', 'IN', 'O'), ('Mahkamah', 'NN', 'O'), ('Konstitusi', 'NN', 'O'), ('.', '.', 'O')]\n"
     ]
    },
    {
     "name": "stdout",
     "output_type": "stream",
     "text": [
      "train sent = \n",
      "[]\n",
      "test sent = \n",
      "[('Menteri', 'NNP', 'O'), ('Energi', 'NNP', 'O'), ('dan', 'CC', 'O'), ('Sumber', 'NN', 'O'), ('Daya', 'NN', 'O'), ('Mineral', 'NNP', 'O'), ('(', 'OP', 'O'), ('ESDM', 'NNP', 'O'), (')', 'CP', 'O'), ('Arifin', 'NNP', 'B-PER'), ('Tasrif', 'NNP', 'I-PER'), ('meresmikan', 'VBT', 'O'), ('survei', 'NN', 'O'), ('seismik', 'NN', 'O'), ('untuk', 'IN', 'O'), ('mencari', 'VBT', 'O'), ('cadangan', 'NN', 'O'), ('minyak', 'NN', 'O'), ('dan', 'CC', 'O'), ('gas', 'NN', 'O'), ('(', 'OP', 'O'), ('migas)', 'NN', 'O'), ('.', '.', 'O')]\n",
      "test sent = \n",
      "[('Menteri', 'NN', 'O'), ('PPN/Kepala', 'Kepala', 'O'), ('Bappenas', 'NNP', 'O'), (',', ',', 'O'), ('Bambang', 'NNP', 'O'), ('Brodjonegoro', 'NNP', 'O'), ('meresmikan', 'VBT', 'O'), ('Peluncuran', 'NN', 'O'), ('Sekolah', 'NN', 'O'), ('Terintegrasi', 'NN', 'O'), ('Berpola', 'NN', 'O'), ('Asrama', 'NN', 'O'), ('dan', 'CC', 'O'), ('Demonstrasi', 'NN', 'O'), ('.', '.', 'O')]\n",
      "test sent = \n",
      "[('Menteri', 'NN', 'O'), ('ESDM', 'NNP', 'O'), ('Ignasius', 'NNP', 'B-PER'), ('Jonan', 'NNP', 'I-PER'), ('bersama', 'IN', 'O'), ('Gubernur', 'NN', 'O'), ('Kalimantan', 'NN', 'O'), ('Timur', 'NN', 'O'), ('Awang', 'NN', 'B-PER'), ('Faroek', 'NNP', 'I-PER'), ('saat', 'SC', 'O'), ('meresmikan', 'VBT', 'O'), ('Sumur', 'NNP', 'O'), ('Bor', 'NNP', 'O'), ('di', 'IN', 'O'), ('Penajam', 'NN', 'B-LOC'), ('.', '.', 'O')]\n",
      "test sent = \n",
      "[('Menteri', 'NN', 'O'), ('Agama', 'NN', 'O'), ('RI', 'NNP', 'O'), (',', ',', 'O'), ('Bapak', 'NN', 'O'), ('Lukman', 'NN', 'B-PER'), ('Hakim', 'NN', 'I-PER'), ('Saifuddin', 'NNP', 'I-PER'), (',', ',', 'O'), ('Kamis', 'NN', 'O'), ('(', 'OP', 'O'), ('10/5', '5', 'O'), (')', 'CP', 'O'), ('melakukan', 'VBT', 'O'), ('kunjungan', 'NN', 'O'), ('kerja', 'NN', 'O'), ('ke', 'IN', 'O'), ('IAIN', 'NN', 'B-ORG'), ('Kerinci', 'NN', 'I-ORG'), ('dalam', 'IN', 'O'), ('rangka', 'NN', 'O'), ('meresmikan', 'VBT', 'O'), ('alih', 'NN', 'O'), ('status', 'NN', 'O'), ('IAIN', 'NN', 'B-ORG'), ('Kerinci', 'NN', 'I-ORG'), ('dari', 'IN', 'O'), ('STAIN', 'NN', 'B-ORG'), ('Kerinci', 'NN', 'I-ORG'), (',', ',', 'O'), (\"Ma'had\", 'NNP', 'B-ORG'), ('Al', 'NNP', 'I-ORG'), ('-', '-', 'I-ORG'), (\"Jami'ah\", 'NNP', 'I-ORG'), ('dan', 'CC', 'O'), ('Seminar', 'NN', 'O'), ('Nasional', 'JJ', 'O'), ('.', '.', 'O')]\n"
     ]
    }
   ],
   "source": [
    "for line in train_lines:\n",
    "    line = line.rstrip('\\n')\n",
    "    curr_tuple = ()\n",
    "    if len(line)>1:\n",
    "        line_part = line.split(\" \")\n",
    "        line_part.append('O')\n",
    "        t = (line_part[0], line_part[1], line_part[2])\n",
    "        #print(t)\n",
    "        sent.append(t)\n",
    "    else:\n",
    "        print(\"train sent = \")\n",
    "        print(sent)\n",
    "        train_sents.append(sent)\n",
    "        sent = []\n",
    "        counter = counter+1\n",
    "counter = 0\n",
    "for line in test_lines:\n",
    "    line = line.rstrip('\\n')\n",
    "    curr_tuple = ()\n",
    "    if len(line)>1:\n",
    "        line_part = line.split(\" \")\n",
    "        line_part.append('O')\n",
    "        t = (line_part[0], line_part[1], line_part[2])\n",
    "        #print(t)\n",
    "        sent.append(t)\n",
    "    else:\n",
    "        print(\"test sent = \")\n",
    "        print(sent)\n",
    "        test_sents.append(sent)\n",
    "        sent = []\n",
    "        counter = counter+1"
   ]
  },
  {
   "cell_type": "code",
   "execution_count": 5,
   "metadata": {},
   "outputs": [],
   "source": [
    "def word2features(sent, i):\n",
    "    word = sent[i][0]\n",
    "    postag = sent[i][1]\n",
    "    features = {\n",
    "        'bias': 1.0, \n",
    "        'word.lower()': word.lower(), \n",
    "        'word[-3:]': word[-3:],\n",
    "        'word[-2:]': word[-2:],\n",
    "        'word.isupper()': word.isupper(),\n",
    "        'word.istitle()': word.istitle(),\n",
    "        'word.isdigit()': word.isdigit(),\n",
    "        'postag': postag,\n",
    "        'postag[:2]': postag[:2],\n",
    "    }\n",
    "    if i > 0:\n",
    "        word1 = sent[i-1][0]\n",
    "        postag1 = sent[i-1][1]\n",
    "        features.update({\n",
    "            '-1:word.lower()': word1.lower(),\n",
    "            '-1:word.istitle()': word1.istitle(),\n",
    "            '-1:word.isupper()': word1.isupper(),\n",
    "            '-1:postag': postag1,\n",
    "            '-1:postag[:2]': postag1[:2],\n",
    "        })\n",
    "    else:\n",
    "        features['BOS'] = True\n",
    "        \n",
    "    if i < len(sent)-1:\n",
    "        word1 = sent[i+1][0]\n",
    "        postag1 = sent[i+1][1]\n",
    "        features.update({\n",
    "            '+1:word.lower()': word1.lower(),\n",
    "            '+1:word.istitle()': word1.istitle(),\n",
    "            '+1:word.isupper()': word1.isupper(),\n",
    "            '+1:postag': postag1,\n",
    "            '+1:postag[:2]': postag1[:2],\n",
    "        })\n",
    "    else:\n",
    "        features['EOS'] = True\n",
    "                \n",
    "    return features"
   ]
  },
  {
   "cell_type": "code",
   "execution_count": 6,
   "metadata": {},
   "outputs": [],
   "source": [
    "def sent2features(sent):\n",
    "    return [word2features(sent, i) for i in range(len(sent))]\n",
    "\n",
    "def sent2labels(sent):\n",
    "    return [label for token, postag, label in sent]\n",
    "\n",
    "def sent2tokens(sent):\n",
    "    return [token for token, postag, label in sent]  "
   ]
  },
  {
   "cell_type": "code",
   "execution_count": 7,
   "metadata": {},
   "outputs": [
    {
     "name": "stdout",
     "output_type": "stream",
     "text": [
      "{'bias': 1.0, 'word.lower()': 'pengamat', 'word[-3:]': 'mat', 'word[-2:]': 'at', 'word.isupper()': False, 'word.istitle()': True, 'word.isdigit()': False, 'postag': 'NN', 'postag[:2]': 'NN', 'BOS': True, '+1:word.lower()': 'politik', '+1:word.istitle()': False, '+1:word.isupper()': False, '+1:postag': 'NN', '+1:postag[:2]': 'NN'}\n"
     ]
    }
   ],
   "source": [
    "print(sent2features(train_sents[0])[0])"
   ]
  },
  {
   "cell_type": "code",
   "execution_count": 8,
   "metadata": {},
   "outputs": [],
   "source": [
    "# ekstraksi fitur data train\n",
    "X_train = []\n",
    "y_train = []\n",
    "for s in train_sents:\n",
    "    for i in range(len(s)):\n",
    "        X_train.append(word2features(s,i))\n",
    "        y_train.append(s[i][2])\n",
    "\n",
    "# ekstraksi fitur data test\n",
    "X_test = []\n",
    "y_test = []\n",
    "for s in test_sents:\n",
    "    for i in range(len(s)):\n",
    "        X_test.append(word2features(s,i))\n",
    "        y_test.append(s[i][2])"
   ]
  },
  {
   "cell_type": "code",
   "execution_count": 9,
   "metadata": {},
   "outputs": [],
   "source": [
    "X_train = [sent2features(s) for s in train_sents]\n",
    "y_train = [sent2labels(s) for s in train_sents]\n",
    "\n",
    "X_test = [sent2features(s) for s in test_sents]\n",
    "y_test = [sent2labels(s) for s in test_sents]\n",
    "\n",
    "trainer = pycrfsuite.Trainer(verbose=False)"
   ]
  },
  {
   "cell_type": "code",
   "execution_count": 10,
   "metadata": {},
   "outputs": [
    {
     "data": {
      "text/plain": [
       "CRF(algorithm='lbfgs', all_possible_states=None,\n",
       "  all_possible_transitions=True, averaging=None, c=None, c1=0.1, c2=0.1,\n",
       "  calibration_candidates=None, calibration_eta=None,\n",
       "  calibration_max_trials=None, calibration_rate=None,\n",
       "  calibration_samples=None, delta=None, epsilon=None, error_sensitive=None,\n",
       "  gamma=None, keep_tempfiles=None, linesearch=None, max_iterations=100,\n",
       "  max_linesearch=None, min_freq=None, model_filename=None,\n",
       "  num_memories=None, pa_type=None, period=None, trainer_cls=None,\n",
       "  variance=None, verbose=False)"
      ]
     },
     "execution_count": 10,
     "metadata": {},
     "output_type": "execute_result"
    }
   ],
   "source": [
    "crf = sklearn_crfsuite.CRF(\n",
    "    algorithm='lbfgs',\n",
    "    c1=0.1,\n",
    "    c2=0.1,\n",
    "    max_iterations=100,\n",
    "    all_possible_transitions=True\n",
    ")\n",
    "crf.fit(X_train, y_train)"
   ]
  },
  {
   "cell_type": "code",
   "execution_count": 11,
   "metadata": {},
   "outputs": [
    {
     "name": "stderr",
     "output_type": "stream",
     "text": [
      "C:\\Anaconda3\\lib\\site-packages\\sklearn\\metrics\\classification.py:1143: UndefinedMetricWarning: Precision and F-score are ill-defined and being set to 0.0 in labels with no predicted samples.\n",
      "  'precision', 'predicted', average, warn_for)\n",
      "C:\\Anaconda3\\lib\\site-packages\\sklearn\\metrics\\classification.py:1145: UndefinedMetricWarning: Recall and F-score are ill-defined and being set to 0.0 in labels with no true samples.\n",
      "  'recall', 'true', average, warn_for)\n"
     ]
    },
    {
     "name": "stdout",
     "output_type": "stream",
     "text": [
      "              precision    recall  f1-score   support\n",
      "\n",
      "       B-PER       0.00      0.00      0.00         4\n",
      "       I-PER       0.00      0.00      0.00         5\n",
      "       B-ORG       0.00      0.00      0.00         4\n",
      "       I-ORG       0.00      0.00      0.00         6\n",
      "       B-LOC       0.00      0.00      0.00         1\n",
      "       I-LOC       0.00      0.00      0.00         0\n",
      "           O       0.78      1.00      0.88        73\n",
      "\n",
      "   micro avg       0.78      0.78      0.78        93\n",
      "   macro avg       0.11      0.14      0.13        93\n",
      "weighted avg       0.62      0.78      0.69        93\n",
      "\n",
      "akurasi :  78.49 %\n"
     ]
    }
   ],
   "source": [
    "y_pred = crf.predict(X_test)\n",
    "print(metrics.flat_classification_report(y_test, y_pred, labels = classes))\n",
    "print(\"akurasi : \", round(crf.score(X_test,y_test)*100,2), \"%\")"
   ]
  },
  {
   "cell_type": "code",
   "execution_count": null,
   "metadata": {},
   "outputs": [],
   "source": []
  }
 ],
 "metadata": {
  "kernelspec": {
   "display_name": "Python 3",
   "language": "python",
   "name": "python3"
  },
  "language_info": {
   "codemirror_mode": {
    "name": "ipython",
    "version": 3
   },
   "file_extension": ".py",
   "mimetype": "text/x-python",
   "name": "python",
   "nbconvert_exporter": "python",
   "pygments_lexer": "ipython3",
   "version": "3.6.8"
  }
 },
 "nbformat": 4,
 "nbformat_minor": 2
}
